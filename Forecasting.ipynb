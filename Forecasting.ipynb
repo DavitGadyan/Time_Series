{
 "cells": [
  {
   "cell_type": "markdown",
   "metadata": {},
   "source": [
    "The purpose of this notebook is to apply the knowledge to forecasting exercises. You will be asked to apply different models to the same data and to choose the best model for that purpose. \n",
    "\n",
    "Souces: Hill et al. pp372-378"
   ]
  },
  {
   "cell_type": "code",
   "execution_count": 5,
   "metadata": {},
   "outputs": [
    {
     "name": "stderr",
     "output_type": "stream",
     "text": [
      "C:\\Users\\Syuzi\\Anaconda2\\lib\\site-packages\\ipykernel_launcher.py:7: FutureWarning: The pandas.core.datetools module is deprecated and will be removed in a future version. Please use the pandas.tseries module instead.\n",
      "  import sys\n"
     ]
    }
   ],
   "source": [
    "#Import the main libraries. \n",
    "import pandas as pd\n",
    "import numpy as np\n",
    "from pandas import read_csv\n",
    "from pandas import datetime\n",
    "from matplotlib import pyplot\n",
    "from pandas.core import datetools\n",
    "from pandas import Series, DataFrame\n",
    "import matplotlib.pyplot as plt"
   ]
  },
  {
   "cell_type": "markdown",
   "metadata": {},
   "source": [
    "Reminder:"
   ]
  },
  {
   "cell_type": "markdown",
   "metadata": {},
   "source": [
    "Our working example for this case - Okun's Law"
   ]
  },
  {
   "cell_type": "markdown",
   "metadata": {},
   "source": [
    "Before proceeding to analysis, let's understand the purpose. We want to estimate empirically the Okun's law for US for the period under consideration. Okun's Law represents the relationship between the change in Unemployment and the rate of growth of output in the economy"
   ]
  },
  {
   "cell_type": "markdown",
   "metadata": {},
   "source": [
    "\\begin{equation*}\n",
    "U_t - U_{t-1} = - \\gamma (G_t - G_N)\n",
    "\\end{equation*}"
   ]
  },
  {
   "cell_type": "code",
   "execution_count": 2,
   "metadata": {},
   "outputs": [],
   "source": [
    "#load the .dta (stata) format data on US GDP from quarter 2, 1985 to quarter 3, 2009 (g GDP, u Unempl)\n",
    "df = pd.read_stata('okun.dta')"
   ]
  },
  {
   "cell_type": "code",
   "execution_count": 3,
   "metadata": {},
   "outputs": [
    {
     "data": {
      "text/html": [
       "<div>\n",
       "<style scoped>\n",
       "    .dataframe tbody tr th:only-of-type {\n",
       "        vertical-align: middle;\n",
       "    }\n",
       "\n",
       "    .dataframe tbody tr th {\n",
       "        vertical-align: top;\n",
       "    }\n",
       "\n",
       "    .dataframe thead th {\n",
       "        text-align: right;\n",
       "    }\n",
       "</style>\n",
       "<table border=\"1\" class=\"dataframe\">\n",
       "  <thead>\n",
       "    <tr style=\"text-align: right;\">\n",
       "      <th></th>\n",
       "      <th>g</th>\n",
       "      <th>u</th>\n",
       "    </tr>\n",
       "  </thead>\n",
       "  <tbody>\n",
       "    <tr>\n",
       "      <th>0</th>\n",
       "      <td>1.4</td>\n",
       "      <td>7.3</td>\n",
       "    </tr>\n",
       "    <tr>\n",
       "      <th>1</th>\n",
       "      <td>2.0</td>\n",
       "      <td>7.2</td>\n",
       "    </tr>\n",
       "    <tr>\n",
       "      <th>2</th>\n",
       "      <td>1.4</td>\n",
       "      <td>7.0</td>\n",
       "    </tr>\n",
       "    <tr>\n",
       "      <th>3</th>\n",
       "      <td>1.5</td>\n",
       "      <td>7.0</td>\n",
       "    </tr>\n",
       "    <tr>\n",
       "      <th>4</th>\n",
       "      <td>0.9</td>\n",
       "      <td>7.2</td>\n",
       "    </tr>\n",
       "  </tbody>\n",
       "</table>\n",
       "</div>"
      ],
      "text/plain": [
       "     g    u\n",
       "0  1.4  7.3\n",
       "1  2.0  7.2\n",
       "2  1.4  7.0\n",
       "3  1.5  7.0\n",
       "4  0.9  7.2"
      ]
     },
     "execution_count": 3,
     "metadata": {},
     "output_type": "execute_result"
    }
   ],
   "source": [
    "df.head()"
   ]
  },
  {
   "cell_type": "markdown",
   "metadata": {},
   "source": [
    "### Assignment 1. Apply AR model to GDP data"
   ]
  },
  {
   "cell_type": "code",
   "execution_count": 4,
   "metadata": {},
   "outputs": [],
   "source": [
    "#Create data index\n",
    "ts = pd.period_range('1985Q2', periods=98, freq='Q')\n",
    "df['Date'] = ts\n",
    "df.set_index('Date', inplace=True)"
   ]
  },
  {
   "cell_type": "code",
   "execution_count": 5,
   "metadata": {},
   "outputs": [
    {
     "data": {
      "image/png": "[encoded data removed]",
      "text/plain": [
       "<Figure size 432x288 with 1 Axes>"
      ]
     },
     "metadata": {
      "needs_background": "light"
     },
     "output_type": "display_data"
    }
   ],
   "source": [
    "df['g'].plot() \n",
    "plt.show()"
   ]
  },
  {
   "cell_type": "code",
   "execution_count": 6,
   "metadata": {},
   "outputs": [],
   "source": [
    "#Construct AR(2) model\n",
    "df['lag_g1'] = df['g'].shift(1)\n",
    "df['lag_g2'] = df['g'].shift(2)"
   ]
  },
  {
   "cell_type": "code",
   "execution_count": 7,
   "metadata": {},
   "outputs": [],
   "source": [
    "# Import the linear regression from statsmodels\n",
    "import statsmodels.api as sm"
   ]
  },
  {
   "cell_type": "code",
   "execution_count": 8,
   "metadata": {},
   "outputs": [],
   "source": [
    "# drop columns and nan values\n",
    "df.dropna(inplace=True)"
   ]
  },
  {
   "cell_type": "code",
   "execution_count": 9,
   "metadata": {},
   "outputs": [],
   "source": [
    "# Prepare target and input variables.\n",
    "X_multi=df.drop(['u','g'], axis=1)\n",
    "Y_target=df.g"
   ]
  },
  {
   "cell_type": "code",
   "execution_count": 10,
   "metadata": {},
   "outputs": [],
   "source": [
    "# Add the costant to our input variables\n",
    "X_multi=sm.tools.tools.add_constant(X_multi, prepend=True, has_constant='skip')"
   ]
  },
  {
   "cell_type": "code",
   "execution_count": 11,
   "metadata": {},
   "outputs": [
    {
     "name": "stdout",
     "output_type": "stream",
     "text": [
      "                            OLS Regression Results                            \n",
      "==============================================================================\n",
      "Dep. Variable:                      g   R-squared:                       0.291\n",
      "Model:                            OLS   Adj. R-squared:                  0.275\n",
      "Method:                 Least Squares   F-statistic:                     19.06\n",
      "Date:                Sun, 17 Feb 2019   Prob (F-statistic):           1.16e-07\n",
      "Time:                        19:28:01   Log-Likelihood:                -77.770\n",
      "No. Observations:                  96   AIC:                             161.5\n",
      "Df Residuals:                      93   BIC:                             169.2\n",
      "Df Model:                           2                                         \n",
      "Covariance Type:            nonrobust                                         \n",
      "==============================================================================\n",
      "                 coef    std err          t      P>|t|      [0.025      0.975]\n",
      "------------------------------------------------------------------------------\n",
      "const          0.4657      0.143      3.251      0.002       0.181       0.750\n",
      "lag_g1         0.3770      0.100      3.769      0.000       0.178       0.576\n",
      "lag_g2         0.2462      0.103      2.394      0.019       0.042       0.451\n",
      "==============================================================================\n",
      "Omnibus:                       15.304   Durbin-Watson:                   1.915\n",
      "Prob(Omnibus):                  0.000   Jarque-Bera (JB):               22.434\n",
      "Skew:                          -0.718   Prob(JB):                     1.34e-05\n",
      "Kurtosis:                       4.882   Cond. No.                         6.16\n",
      "==============================================================================\n",
      "\n",
      "Warnings:\n",
      "[1] Standard Errors assume that the covariance matrix of the errors is correctly specified.\n"
     ]
    }
   ],
   "source": [
    "# OLS Regression (Model with 3lags)\n",
    "mod = sm.OLS(Y_target, X_multi)\n",
    "res = mod.fit()\n",
    "print(res.summary())"
   ]
  },
  {
   "cell_type": "markdown",
   "metadata": {},
   "source": [
    "### Assignment 2. Test whether the assumptions for the model are satisfied (serial correlation of errors)"
   ]
  },
  {
   "cell_type": "code",
   "execution_count": 12,
   "metadata": {},
   "outputs": [
    {
     "data": {
      "image/png": "[encoded data removed]",
      "text/plain": [
       "<Figure size 432x288 with 1 Axes>"
      ]
     },
     "metadata": {
      "needs_background": "light"
     },
     "output_type": "display_data"
    },
    {
     "data": {
      "image/png": "[encoded data removed]",
      "text/plain": [
       "<Figure size 432x288 with 1 Axes>"
      ]
     },
     "metadata": {
      "needs_background": "light"
     },
     "output_type": "display_data"
    }
   ],
   "source": [
    "from statsmodels.graphics.tsaplots import plot_acf\n",
    "residuals = DataFrame(res.resid)\n",
    "residuals.plot()\n",
    "pyplot.show()\n",
    "plot_acf(residuals,lags=12)\n",
    "pyplot.show()"
   ]
  },
  {
   "cell_type": "markdown",
   "metadata": {},
   "source": [
    "#Note: We ignore the spyke at lag 12, and conclude that the model generally is a suitable one. You can test different orders of lags and choose the best model using AIC of BIC criteria"
   ]
  },
  {
   "cell_type": "markdown",
   "metadata": {},
   "source": [
    "### Assignment 3. Forecast GDP growth"
   ]
  },
  {
   "cell_type": "code",
   "execution_count": 13,
   "metadata": {},
   "outputs": [],
   "source": [
    "#Start Arima \n",
    "from statsmodels.tsa.arima_model import ARIMA"
   ]
  },
  {
   "cell_type": "code",
   "execution_count": 14,
   "metadata": {},
   "outputs": [],
   "source": [
    "df1 = pd.read_stata('okun.dta')\n",
    "ts = pd.period_range('1985Q2', periods=98, freq='Q')\n",
    "df1['Date'] = ts\n",
    "df1.set_index('Date', inplace=True)\n",
    "series = df1.g"
   ]
  },
  {
   "cell_type": "code",
   "execution_count": 15,
   "metadata": {},
   "outputs": [
    {
     "data": {
      "text/plain": [
       "Date\n",
       "1985Q2    1.4\n",
       "1985Q3    2.0\n",
       "1985Q4    1.4\n",
       "1986Q1    1.5\n",
       "1986Q2    0.9\n",
       "Freq: Q-DEC, Name: g, dtype: float64"
      ]
     },
     "execution_count": 15,
     "metadata": {},
     "output_type": "execute_result"
    }
   ],
   "source": [
    "series.head()"
   ]
  },
  {
   "cell_type": "code",
   "execution_count": 30,
   "metadata": {},
   "outputs": [
    {
     "name": "stderr",
     "output_type": "stream",
     "text": [
      "C:\\Users\\User\\Anaconda3\\lib\\site-packages\\scipy\\signal\\signaltools.py:1341: FutureWarning: Using a non-tuple sequence for multidimensional indexing is deprecated; use `arr[tuple(seq)]` instead of `arr[seq]`. In the future this will be interpreted as an array index, `arr[np.array(seq)]`, which will result either in an error or a different result.\n",
      "  out_full[ind] += zi\n",
      "C:\\Users\\User\\Anaconda3\\lib\\site-packages\\scipy\\signal\\signaltools.py:1344: FutureWarning: Using a non-tuple sequence for multidimensional indexing is deprecated; use `arr[tuple(seq)]` instead of `arr[seq]`. In the future this will be interpreted as an array index, `arr[np.array(seq)]`, which will result either in an error or a different result.\n",
      "  out = out_full[ind]\n",
      "C:\\Users\\User\\Anaconda3\\lib\\site-packages\\scipy\\signal\\signaltools.py:1350: FutureWarning: Using a non-tuple sequence for multidimensional indexing is deprecated; use `arr[tuple(seq)]` instead of `arr[seq]`. In the future this will be interpreted as an array index, `arr[np.array(seq)]`, which will result either in an error or a different result.\n",
      "  zf = out_full[ind]\n"
     ]
    },
    {
     "name": "stdout",
     "output_type": "stream",
     "text": [
      "                              ARMA Model Results                              \n",
      "==============================================================================\n",
      "Dep. Variable:                      g   No. Observations:                   98\n",
      "Model:                     ARMA(2, 0)   Log Likelihood                 -79.343\n",
      "Method:                       css-mle   S.D. of innovations              0.543\n",
      "Date:                Thu, 14 Feb 2019   AIC                            166.685\n",
      "Time:                        14:23:07   BIC                            177.025\n",
      "Sample:                    06-30-1985   HQIC                           170.867\n",
      "                         - 09-30-2009                                         \n",
      "==============================================================================\n",
      "                 coef    std err          z      P>|z|      [0.025      0.975]\n",
      "------------------------------------------------------------------------------\n",
      "const          1.2663      0.140      9.014      0.000       0.991       1.542\n",
      "ar.L1.g        0.3745      0.097      3.845      0.000       0.184       0.565\n",
      "ar.L2.g        0.2439      0.100      2.427      0.017       0.047       0.441\n",
      "                                    Roots                                    \n",
      "=============================================================================\n",
      "                  Real          Imaginary           Modulus         Frequency\n",
      "-----------------------------------------------------------------------------\n",
      "AR.1            1.3979           +0.0000j            1.3979            0.0000\n",
      "AR.2           -2.9335           +0.0000j            2.9335            0.5000\n",
      "-----------------------------------------------------------------------------\n"
     ]
    },
    {
     "data": {
      "image/png": "[encoded data removed]",
      "text/plain": [
       "<Figure size 432x288 with 1 Axes>"
      ]
     },
     "metadata": {
      "needs_background": "light"
     },
     "output_type": "display_data"
    },
    {
     "data": {
      "image/png": "[encoded data removed]",
      "text/plain": [
       "<Figure size 432x288 with 1 Axes>"
      ]
     },
     "metadata": {
      "needs_background": "light"
     },
     "output_type": "display_data"
    },
    {
     "name": "stdout",
     "output_type": "stream",
     "text": [
      "               0\n",
      "count  98.000000\n",
      "mean   -0.002834\n",
      "std     0.545682\n",
      "min    -2.215114\n",
      "25%    -0.328608\n",
      "50%     0.041124\n",
      "75%     0.348088\n",
      "max     1.113891\n"
     ]
    }
   ],
   "source": [
    "# fit model\n",
    "model = ARIMA(series, order=(2,0,0))\n",
    "model_fit = model.fit(disp=0)\n",
    "print(model_fit.summary())\n",
    "# plot residual errors\n",
    "residuals = DataFrame(model_fit.resid)\n",
    "residuals.plot()\n",
    "pyplot.show()\n",
    "residuals.plot(kind='kde')\n",
    "pyplot.show()\n",
    "print(residuals.describe())"
   ]
  },
  {
   "cell_type": "code",
   "execution_count": 16,
   "metadata": {},
   "outputs": [
    {
     "name": "stderr",
     "output_type": "stream",
     "text": [
      "C:\\Users\\Syuzi\\Anaconda2\\lib\\site-packages\\scipy\\signal\\signaltools.py:1341: FutureWarning: Using a non-tuple sequence for multidimensional indexing is deprecated; use `arr[tuple(seq)]` instead of `arr[seq]`. In the future this will be interpreted as an array index, `arr[np.array(seq)]`, which will result either in an error or a different result.\n",
      "  out_full[ind] += zi\n",
      "C:\\Users\\Syuzi\\Anaconda2\\lib\\site-packages\\scipy\\signal\\signaltools.py:1344: FutureWarning: Using a non-tuple sequence for multidimensional indexing is deprecated; use `arr[tuple(seq)]` instead of `arr[seq]`. In the future this will be interpreted as an array index, `arr[np.array(seq)]`, which will result either in an error or a different result.\n",
      "  out = out_full[ind]\n",
      "C:\\Users\\Syuzi\\Anaconda2\\lib\\site-packages\\scipy\\signal\\signaltools.py:1350: FutureWarning: Using a non-tuple sequence for multidimensional indexing is deprecated; use `arr[tuple(seq)]` instead of `arr[seq]`. In the future this will be interpreted as an array index, `arr[np.array(seq)]`, which will result either in an error or a different result.\n",
      "  zf = out_full[ind]\n"
     ]
    },
    {
     "data": {
      "text/plain": [
       "(array([0.73409718, 0.95328121, 1.01928615]),\n",
       " array([0.5426006 , 0.5793953 , 0.61573635]),\n",
       " array([[-0.32938045,  1.7975748 ],\n",
       "        [-0.1823127 ,  2.08887513],\n",
       "        [-0.18753491,  2.22610721]]))"
      ]
     },
     "execution_count": 16,
     "metadata": {},
     "output_type": "execute_result"
    }
   ],
   "source": [
    "results = ARIMA(series, order=(2,0,0)).fit()\n",
    "results.forecast(steps=3)"
   ]
  },
  {
   "cell_type": "markdown",
   "metadata": {},
   "source": [
    "Note: Check with auto-Arima that the model proposed is in fact suitable one. Comment on the results that you obtain. "
   ]
  },
  {
   "cell_type": "markdown",
   "metadata": {},
   "source": [
    "## Assignment 4. ARDL model"
   ]
  },
  {
   "cell_type": "markdown",
   "metadata": {},
   "source": [
    "Consider the following ARDL (1,1) model we estimated for Okun's Law\n",
    "\n",
    "\\begin{equation}\n",
    "DU_t = \\delta + \\theta_1 DU_{t-1} + \\delta_0 G_t + \\delta_1 G_{t-1} + v_t\n",
    "\\end{equation}"
   ]
  },
  {
   "cell_type": "markdown",
   "metadata": {},
   "source": [
    "The value of DU in the first post-sample quarter is: "
   ]
  },
  {
   "cell_type": "markdown",
   "metadata": {},
   "source": [
    "\\begin{equation}\n",
    "DU_{T+1} = \\delta + \\theta_1 DU_{T} + \\delta_0 G_{T+1} + \\delta_1 G_{T-1} + v_{T+1}\n",
    "\\end{equation}"
   ]
  },
  {
   "cell_type": "markdown",
   "metadata": {},
   "source": [
    "Note: prove that this ARDL (1,1) model for a change in unemployment is equivalent to an ARDL (2,1) model for level of unemployment"
   ]
  },
  {
   "cell_type": "markdown",
   "metadata": {},
   "source": [
    "\\begin{equation}\n",
    "U_{T+1} = \\delta + (\\theta_1+1) U_{T} - \\theta_1 U_{T-1}  + \\delta_0 G_{T+1} + \\delta_1 G_{T-1} + v_{T+1}\n",
    "\\end{equation}"
   ]
  },
  {
   "cell_type": "code",
   "execution_count": 17,
   "metadata": {},
   "outputs": [],
   "source": [
    "#as a first step obtain the differenced values of unemployment and lags of GDP gro\n",
    "#Create laged and differenced variables for further analysis\n",
    "df['lag_g1'] = df['g'].shift(1)\n",
    "df['lag_u1'] = df['u'].shift(1)\n",
    "df['lag_u2'] = df['u'].shift(2)"
   ]
  },
  {
   "cell_type": "code",
   "execution_count": 35,
   "metadata": {},
   "outputs": [
    {
     "data": {
      "text/html": [
       "<div>\n",
       "<style scoped>\n",
       "    .dataframe tbody tr th:only-of-type {\n",
       "        vertical-align: middle;\n",
       "    }\n",
       "\n",
       "    .dataframe tbody tr th {\n",
       "        vertical-align: top;\n",
       "    }\n",
       "\n",
       "    .dataframe thead th {\n",
       "        text-align: right;\n",
       "    }\n",
       "</style>\n",
       "<table border=\"1\" class=\"dataframe\">\n",
       "  <thead>\n",
       "    <tr style=\"text-align: right;\">\n",
       "      <th></th>\n",
       "      <th>g</th>\n",
       "      <th>u</th>\n",
       "      <th>lag_g1</th>\n",
       "      <th>lag_g2</th>\n",
       "      <th>lag_u1</th>\n",
       "      <th>lag_u2</th>\n",
       "    </tr>\n",
       "    <tr>\n",
       "      <th>Date</th>\n",
       "      <th></th>\n",
       "      <th></th>\n",
       "      <th></th>\n",
       "      <th></th>\n",
       "      <th></th>\n",
       "      <th></th>\n",
       "    </tr>\n",
       "  </thead>\n",
       "  <tbody>\n",
       "    <tr>\n",
       "      <th>1985Q4</th>\n",
       "      <td>1.4</td>\n",
       "      <td>7.0</td>\n",
       "      <td>NaN</td>\n",
       "      <td>1.4</td>\n",
       "      <td>NaN</td>\n",
       "      <td>NaN</td>\n",
       "    </tr>\n",
       "    <tr>\n",
       "      <th>1986Q1</th>\n",
       "      <td>1.5</td>\n",
       "      <td>7.0</td>\n",
       "      <td>1.4</td>\n",
       "      <td>2.0</td>\n",
       "      <td>7.0</td>\n",
       "      <td>NaN</td>\n",
       "    </tr>\n",
       "    <tr>\n",
       "      <th>1986Q2</th>\n",
       "      <td>0.9</td>\n",
       "      <td>7.2</td>\n",
       "      <td>1.5</td>\n",
       "      <td>1.4</td>\n",
       "      <td>7.0</td>\n",
       "      <td>7.0</td>\n",
       "    </tr>\n",
       "    <tr>\n",
       "      <th>1986Q3</th>\n",
       "      <td>1.5</td>\n",
       "      <td>7.0</td>\n",
       "      <td>0.9</td>\n",
       "      <td>1.5</td>\n",
       "      <td>7.2</td>\n",
       "      <td>7.0</td>\n",
       "    </tr>\n",
       "    <tr>\n",
       "      <th>1986Q4</th>\n",
       "      <td>1.2</td>\n",
       "      <td>6.8</td>\n",
       "      <td>1.5</td>\n",
       "      <td>0.9</td>\n",
       "      <td>7.0</td>\n",
       "      <td>7.2</td>\n",
       "    </tr>\n",
       "  </tbody>\n",
       "</table>\n",
       "</div>"
      ],
      "text/plain": [
       "          g    u  lag_g1  lag_g2  lag_u1  lag_u2\n",
       "Date                                            \n",
       "1985Q4  1.4  7.0     NaN     1.4     NaN     NaN\n",
       "1986Q1  1.5  7.0     1.4     2.0     7.0     NaN\n",
       "1986Q2  0.9  7.2     1.5     1.4     7.0     7.0\n",
       "1986Q3  1.5  7.0     0.9     1.5     7.2     7.0\n",
       "1986Q4  1.2  6.8     1.5     0.9     7.0     7.2"
      ]
     },
     "execution_count": 35,
     "metadata": {},
     "output_type": "execute_result"
    }
   ],
   "source": [
    "df.head()"
   ]
  },
  {
   "cell_type": "code",
   "execution_count": 18,
   "metadata": {},
   "outputs": [],
   "source": [
    "# drop columns and nan values\n",
    "df.dropna(inplace=True)"
   ]
  },
  {
   "cell_type": "code",
   "execution_count": 19,
   "metadata": {},
   "outputs": [],
   "source": [
    "# Prepare target and input variables.\n",
    "X1_multi=df.drop(['u','lag_g2'], axis=1)\n",
    "Y_target=df.u"
   ]
  },
  {
   "cell_type": "code",
   "execution_count": 20,
   "metadata": {},
   "outputs": [],
   "source": [
    "# Add the costant to our input variables\n",
    "X1_multi=sm.tools.tools.add_constant(X1_multi, prepend=True, has_constant='skip')"
   ]
  },
  {
   "cell_type": "code",
   "execution_count": 21,
   "metadata": {},
   "outputs": [
    {
     "name": "stdout",
     "output_type": "stream",
     "text": [
      "                            OLS Regression Results                            \n",
      "==============================================================================\n",
      "Dep. Variable:                      u   R-squared:                       0.980\n",
      "Model:                            OLS   Adj. R-squared:                  0.979\n",
      "Method:                 Least Squares   F-statistic:                     1108.\n",
      "Date:                Sun, 17 Feb 2019   Prob (F-statistic):           5.44e-75\n",
      "Time:                        19:29:11   Log-Likelihood:                 41.373\n",
      "No. Observations:                  94   AIC:                            -72.75\n",
      "Df Residuals:                      89   BIC:                            -60.03\n",
      "Df Model:                           4                                         \n",
      "Covariance Type:            nonrobust                                         \n",
      "==============================================================================\n",
      "                 coef    std err          t      P>|t|      [0.025      0.975]\n",
      "------------------------------------------------------------------------------\n",
      "const          0.5768      0.110      5.265      0.000       0.359       0.794\n",
      "g             -0.1778      0.030     -5.833      0.000      -0.238      -0.117\n",
      "lag_g1        -0.0998      0.037     -2.718      0.008      -0.173      -0.027\n",
      "lag_u1         1.3675      0.084     16.282      0.000       1.201       1.534\n",
      "lag_u2        -0.4045      0.087     -4.668      0.000      -0.577      -0.232\n",
      "==============================================================================\n",
      "Omnibus:                        3.708   Durbin-Watson:                   2.116\n",
      "Prob(Omnibus):                  0.157   Jarque-Bera (JB):                2.063\n",
      "Skew:                          -0.053   Prob(JB):                        0.357\n",
      "Kurtosis:                       2.282   Cond. No.                         65.8\n",
      "==============================================================================\n",
      "\n",
      "Warnings:\n",
      "[1] Standard Errors assume that the covariance matrix of the errors is correctly specified.\n"
     ]
    }
   ],
   "source": [
    "# OLS Regression (Model with 3lags)\n",
    "mod = sm.OLS(Y_target, X1_multi)\n",
    "res = mod.fit()\n",
    "print(res.summary())"
   ]
  },
  {
   "cell_type": "code",
   "execution_count": 40,
   "metadata": {},
   "outputs": [],
   "source": [
    "#try with SARIMAX"
   ]
  },
  {
   "cell_type": "code",
   "execution_count": 22,
   "metadata": {},
   "outputs": [
    {
     "name": "stdout",
     "output_type": "stream",
     "text": [
      "                           Statespace Model Results                           \n",
      "==============================================================================\n",
      "Dep. Variable:                      u   No. Observations:                   94\n",
      "Model:               SARIMAX(2, 0, 0)   Log Likelihood                  19.664\n",
      "Date:                Sun, 17 Feb 2019   AIC                            -27.329\n",
      "Time:                        19:29:20   BIC                            -12.069\n",
      "Sample:                    06-30-1986   HQIC                           -21.165\n",
      "                         - 09-30-2009                                         \n",
      "Covariance Type:                  opg                                         \n",
      "==============================================================================\n",
      "                 coef    std err          z      P>|z|      [0.025      0.975]\n",
      "------------------------------------------------------------------------------\n",
      "intercept      0.2493      0.122      2.041      0.041       0.010       0.489\n",
      "g             -0.0333      0.032     -1.041      0.298      -0.096       0.029\n",
      "lag_g1        -0.0287      0.026     -1.103      0.270      -0.080       0.022\n",
      "ar.L1          1.7317      0.054     32.363      0.000       1.627       1.837\n",
      "ar.L2         -0.7728      0.065    -11.970      0.000      -0.899      -0.646\n",
      "sigma2         0.0366      0.006      6.230      0.000       0.025       0.048\n",
      "===================================================================================\n",
      "Ljung-Box (Q):                       70.17   Jarque-Bera (JB):                 3.87\n",
      "Prob(Q):                              0.00   Prob(JB):                         0.14\n",
      "Heteroskedasticity (H):               2.66   Skew:                             0.47\n",
      "Prob(H) (two-sided):                  0.01   Kurtosis:                         3.32\n",
      "===================================================================================\n",
      "\n",
      "Warnings:\n",
      "[1] Covariance matrix calculated using the outer product of gradients (complex-step).\n"
     ]
    }
   ],
   "source": [
    "model=sm.tsa.statespace.SARIMAX(endog=df['u'],exog=df[['g','lag_g1']],order=(2,0,0),seasonal_order=(0,0,0,0),trend='c',enforce_invertibility=False)\n",
    "results=model.fit()\n",
    "print(results.summary())"
   ]
  },
  {
   "cell_type": "code",
   "execution_count": 23,
   "metadata": {},
   "outputs": [
    {
     "data": {
      "text/plain": [
       "2009Q4    9.692397\n",
       "2010Q1    9.643757\n",
       "2010Q2    9.456386\n",
       "Freq: Q-DEC, dtype: float64"
      ]
     },
     "execution_count": 23,
     "metadata": {},
     "output_type": "execute_result"
    }
   ],
   "source": [
    "results.forecast(steps=3, exog=([1, 1], [1, 1],[1, 1] ))"
   ]
  },
  {
   "cell_type": "code",
   "execution_count": 24,
   "metadata": {},
   "outputs": [
    {
     "data": {
      "text/html": [
       "<div>\n",
       "<style scoped>\n",
       "    .dataframe tbody tr th:only-of-type {\n",
       "        vertical-align: middle;\n",
       "    }\n",
       "\n",
       "    .dataframe tbody tr th {\n",
       "        vertical-align: top;\n",
       "    }\n",
       "\n",
       "    .dataframe thead th {\n",
       "        text-align: right;\n",
       "    }\n",
       "</style>\n",
       "<table border=\"1\" class=\"dataframe\">\n",
       "  <thead>\n",
       "    <tr style=\"text-align: right;\">\n",
       "      <th></th>\n",
       "      <th>g</th>\n",
       "      <th>u</th>\n",
       "      <th>lag_g1</th>\n",
       "      <th>lag_g2</th>\n",
       "      <th>lag_u1</th>\n",
       "      <th>lag_u2</th>\n",
       "    </tr>\n",
       "    <tr>\n",
       "      <th>Date</th>\n",
       "      <th></th>\n",
       "      <th></th>\n",
       "      <th></th>\n",
       "      <th></th>\n",
       "      <th></th>\n",
       "      <th></th>\n",
       "    </tr>\n",
       "  </thead>\n",
       "  <tbody>\n",
       "    <tr>\n",
       "      <th>2008Q3</th>\n",
       "      <td>0.3</td>\n",
       "      <td>6.1</td>\n",
       "      <td>0.9</td>\n",
       "      <td>0.3</td>\n",
       "      <td>5.4</td>\n",
       "      <td>4.9</td>\n",
       "    </tr>\n",
       "    <tr>\n",
       "      <th>2008Q4</th>\n",
       "      <td>-1.4</td>\n",
       "      <td>6.9</td>\n",
       "      <td>0.3</td>\n",
       "      <td>0.9</td>\n",
       "      <td>6.1</td>\n",
       "      <td>5.4</td>\n",
       "    </tr>\n",
       "    <tr>\n",
       "      <th>2009Q1</th>\n",
       "      <td>-1.2</td>\n",
       "      <td>8.1</td>\n",
       "      <td>-1.4</td>\n",
       "      <td>0.3</td>\n",
       "      <td>6.9</td>\n",
       "      <td>6.1</td>\n",
       "    </tr>\n",
       "    <tr>\n",
       "      <th>2009Q2</th>\n",
       "      <td>-0.2</td>\n",
       "      <td>9.3</td>\n",
       "      <td>-1.2</td>\n",
       "      <td>-1.4</td>\n",
       "      <td>8.1</td>\n",
       "      <td>6.9</td>\n",
       "    </tr>\n",
       "    <tr>\n",
       "      <th>2009Q3</th>\n",
       "      <td>0.8</td>\n",
       "      <td>9.6</td>\n",
       "      <td>-0.2</td>\n",
       "      <td>-1.2</td>\n",
       "      <td>9.3</td>\n",
       "      <td>8.1</td>\n",
       "    </tr>\n",
       "  </tbody>\n",
       "</table>\n",
       "</div>"
      ],
      "text/plain": [
       "          g    u  lag_g1  lag_g2  lag_u1  lag_u2\n",
       "Date                                            \n",
       "2008Q3  0.3  6.1     0.9     0.3     5.4     4.9\n",
       "2008Q4 -1.4  6.9     0.3     0.9     6.1     5.4\n",
       "2009Q1 -1.2  8.1    -1.4     0.3     6.9     6.1\n",
       "2009Q2 -0.2  9.3    -1.2    -1.4     8.1     6.9\n",
       "2009Q3  0.8  9.6    -0.2    -1.2     9.3     8.1"
      ]
     },
     "execution_count": 24,
     "metadata": {},
     "output_type": "execute_result"
    }
   ],
   "source": [
    "df.tail()"
   ]
  },
  {
   "cell_type": "markdown",
   "metadata": {},
   "source": [
    "# Assignment 5. Single Exponential Smoothing"
   ]
  },
  {
   "cell_type": "code",
   "execution_count": 3,
   "metadata": {},
   "outputs": [],
   "source": [
    "# Import the toolpack\n",
    "from statsmodels.tsa.api import ExponentialSmoothing, SimpleExpSmoothing"
   ]
  },
  {
   "cell_type": "code",
   "execution_count": 7,
   "metadata": {},
   "outputs": [],
   "source": [
    "#Prepare the data\n",
    "df1 = pd.read_stata('okun.dta')\n",
    "ts = pd.period_range('1985Q2', periods=98, freq='Q')\n",
    "df1['Date'] = ts\n",
    "df1.set_index('Date', inplace=True)\n",
    "series = df1.g"
   ]
  },
  {
   "cell_type": "markdown",
   "metadata": {},
   "source": [
    "When building a Single Exponential Smoothing Model, the choice of the smoothing parameter alpha is very important. If α is high (closer to 1), more weight is given to the more recent observations. There are 2 extreme cases:\n",
    "\n",
    "1) α=0: the forecasts of all future values are equal to the average of the historical data, which is called Average method.\n",
    "\n",
    "2) α=1: all forecasts are set to be the value of the last observation. This is called the Naive method."
   ]
  },
  {
   "cell_type": "markdown",
   "metadata": {},
   "source": [
    "We will run three various versions of the model, explicitly providing 2 different values of alpha at first and then using the auto optimization method. "
   ]
  },
  {
   "cell_type": "code",
   "execution_count": 16,
   "metadata": {},
   "outputs": [],
   "source": [
    "#For the first fit, we set a low value of alpha, 0.2.\n",
    "fit1 = SimpleExpSmoothing(series).fit(smoothing_level=0.2,optimized=False)"
   ]
  },
  {
   "cell_type": "code",
   "execution_count": 19,
   "metadata": {},
   "outputs": [],
   "source": [
    "fcast1 = fit1.forecast(12).rename(r'$\\alpha=0.2$')"
   ]
  },
  {
   "cell_type": "code",
   "execution_count": 10,
   "metadata": {},
   "outputs": [],
   "source": [
    "#For the second fit, we set a higher value of alpha, 0.6.\n",
    "fit2 = SimpleExpSmoothing(series).fit(smoothing_level=0.6,optimized=False)"
   ]
  },
  {
   "cell_type": "code",
   "execution_count": 11,
   "metadata": {},
   "outputs": [],
   "source": [
    "fcast2 = fit2.forecast(12).rename(r'$\\alpha=0.6$')"
   ]
  },
  {
   "cell_type": "code",
   "execution_count": 12,
   "metadata": {},
   "outputs": [],
   "source": [
    "#Finally, in fit3 we let the statsmodel to automatically find an optimized value of alpha.\n",
    "fit3 = SimpleExpSmoothing(series).fit()"
   ]
  },
  {
   "cell_type": "code",
   "execution_count": 13,
   "metadata": {},
   "outputs": [],
   "source": [
    "fcast3 = fit3.forecast(12).rename(r'$\\alpha=%s$'%fit3.model.params['smoothing_level'])"
   ]
  },
  {
   "cell_type": "code",
   "execution_count": 18,
   "metadata": {},
   "outputs": [
    {
     "data": {
      "text/plain": [
       "<Figure size 7200x14400 with 0 Axes>"
      ]
     },
     "execution_count": 18,
     "metadata": {},
     "output_type": "execute_result"
    },
    {
     "data": {
      "image/png": "[encoded data removed]",
      "text/plain": [
       "<Figure size 432x288 with 1 Axes>"
      ]
     },
     "metadata": {
      "needs_background": "light"
     },
     "output_type": "display_data"
    },
    {
     "data": {
      "text/plain": [
       "<Figure size 7200x14400 with 0 Axes>"
      ]
     },
     "metadata": {},
     "output_type": "display_data"
    }
   ],
   "source": [
    "#Plotting the original and smoothed values.\n",
    "fcast1.plot(marker='o', color='blue', legend=True)\n",
    "fit1.fittedvalues.plot(marker='o',  color='blue')\n",
    "\n",
    "fcast2.plot(marker='o', color='red', legend=True)\n",
    "fit2.fittedvalues.plot(marker='o',  color='red')\n",
    "\n",
    "fcast3.plot(marker='o', color='green', legend=True)\n",
    "fit3.fittedvalues.plot(marker='o', color='green')\n",
    "\n",
    "series.plot(marker=\"o\", color=\"black\", legend=True)\n",
    "\n",
    "plt.figure(figsize=(100,200))"
   ]
  },
  {
   "cell_type": "code",
   "execution_count": null,
   "metadata": {},
   "outputs": [],
   "source": [
    "#Forecast the values of g for the next three quarters."
   ]
  },
  {
   "cell_type": "code",
   "execution_count": 18,
   "metadata": {},
   "outputs": [
    {
     "data": {
      "text/plain": [
       "2009Q4    0.206239\n",
       "2010Q1    0.206239\n",
       "2010Q2    0.206239\n",
       "Freq: Q-DEC, dtype: float64"
      ]
     },
     "execution_count": 18,
     "metadata": {},
     "output_type": "execute_result"
    }
   ],
   "source": [
    "fit1.forecast(steps=3)"
   ]
  },
  {
   "cell_type": "code",
   "execution_count": 19,
   "metadata": {},
   "outputs": [
    {
     "data": {
      "text/plain": [
       "2009Q4    0.275879\n",
       "2010Q1    0.275879\n",
       "2010Q2    0.275879\n",
       "Freq: Q-DEC, dtype: float64"
      ]
     },
     "execution_count": 19,
     "metadata": {},
     "output_type": "execute_result"
    }
   ],
   "source": [
    "fit2.forecast(steps=3)"
   ]
  },
  {
   "cell_type": "code",
   "execution_count": 20,
   "metadata": {},
   "outputs": [
    {
     "data": {
      "text/plain": [
       "2009Q4    0.053719\n",
       "2010Q1    0.053719\n",
       "2010Q2    0.053719\n",
       "Freq: Q-DEC, dtype: float64"
      ]
     },
     "execution_count": 20,
     "metadata": {},
     "output_type": "execute_result"
    }
   ],
   "source": [
    "fit3.forecast(steps=3)"
   ]
  },
  {
   "cell_type": "markdown",
   "metadata": {},
   "source": [
    "Note the difference between the results depending on the value of alpha."
   ]
  },
  {
   "cell_type": "markdown",
   "metadata": {},
   "source": [
    "\n",
    "\n",
    "For future references:\n",
    "\n",
    "\n",
    "Single exponential smoothing models are better fit for short-term forecasting of series without trends or seasonal patterns. For series with trend and/or seasonality, double exponential smoothing methods can be used. For instance, Holt's method is used to account for trends in series and Holt-Winter's method is used to account for trends and seasonality at the same time."
   ]
  },
  {
   "cell_type": "code",
   "execution_count": null,
   "metadata": {},
   "outputs": [],
   "source": []
  }
 ],
 "metadata": {
  "kernelspec": {
   "display_name": "Python 2",
   "language": "python",
   "name": "python2"
  },
  "language_info": {
   "codemirror_mode": {
    "name": "ipython",
    "version": 2
   },
   "file_extension": ".py",
   "mimetype": "text/x-python",
   "name": "python",
   "nbconvert_exporter": "python",
   "pygments_lexer": "ipython2",
   "version": "2.7.15"
  }
 },
 "nbformat": 4,
 "nbformat_minor": 2
}
